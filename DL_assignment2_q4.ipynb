{
 "cells": [
  {
   "cell_type": "code",
   "execution_count": 29,
   "id": "0be43261",
   "metadata": {},
   "outputs": [],
   "source": [
    "def Sigmoid(Z):\n",
    "    return 1/(1+np.exp(-Z))\n",
    "\n",
    "def Relu(Z):\n",
    "    return np.maximum(0,Z)\n",
    "\n",
    "def dRelu2(dZ, Z):    \n",
    "    dZ[Z <= 0] = 0    \n",
    "    return dZ\n",
    "\n",
    "def dRelu(x):\n",
    "    x[x<=0] = 0\n",
    "    x[x>0] = 1\n",
    "    return x\n",
    "\n",
    "def dSigmoid(Z):\n",
    "    s = 1/(1+np.exp(-Z))\n",
    "    dZ = s * (1-s)\n",
    "    return dZ\n",
    "\n",
    "class dlnet:\n",
    "    def __init__(self, x, y):\n",
    "        self.debug = 0;\n",
    "        self.X=x\n",
    "        self.Y=y\n",
    "        self.Yh=np.zeros((1,self.Y.shape[0])) \n",
    "        self.L=2\n",
    "        self.dims = [3,2,1] \n",
    "        self.param = {}\n",
    "        self.ch = {}\n",
    "        self.grad = {}\n",
    "        self.loss = []\n",
    "        self.lr=0.003\n",
    "        self.sam = self.Y.shape[0]\n",
    "        self.threshold=0.5\n",
    "        \n",
    "    def nInit(self):    \n",
    "        np.random.seed(1)\n",
    "        self.param['W1'] = np.full((self.dims[1], self.dims[0]),0.5) \n",
    "        self.param['b1'] = np.zeros((self.dims[1], 1))        \n",
    "        self.param['W2'] = np.full((self.dims[2], self.dims[1]),0.7) \n",
    "        self.param['b2'] = np.zeros((self.dims[2], 1))                \n",
    "        return \n",
    "\n",
    "    def forward(self):    \n",
    "        Z1 = self.param['W1'].dot(self.X) + self.param['b1'] \n",
    "        print('Z1',Z1)\n",
    "        print('W1',self.param['W1'])\n",
    "        \n",
    "        print(\"b1:\",self.param[\"b1\"])\n",
    "                \n",
    "        A1 = Relu(Z1)\n",
    "        print('A1',A1)\n",
    "        self.ch['Z1'],self.ch['A1']=Z1,A1\n",
    "        \n",
    "        Z2 = self.param['W2'].dot(A1) + self.param['b2'] \n",
    "        print('Z2',Z2)\n",
    "        print(\"W2:\",self.param[\"W2\"])\n",
    "        print(\"b2:\",self.param[\"b2\"])\n",
    "        A2 = Sigmoid(Z2)\n",
    "        print('A2',A1)\n",
    "        self.ch['Z2'],self.ch['A2']=Z2,A2\n",
    "\n",
    "        self.Yh=A2\n",
    "        loss=self.nloss(A2)\n",
    "        print(loss)\n",
    "        return self.Yh, loss\n",
    "\n",
    "    def nloss(self,Yh):\n",
    "        loss = (1./self.sam) * (-np.dot(self.Y,np.log(Yh).T) - np.dot(1-self.Y, np.log(1-Yh).T))\n",
    "        print('Loss:',loss)\n",
    "        return loss\n",
    "\n",
    "    def backward(self):\n",
    "        dLoss_Yh = - (np.divide(self.Y, self.Yh ) - np.divide(1 - self.Y, 1 - self.Yh))    \n",
    "        print('dLoss_Yh',dLoss_Yh)\n",
    "        dLoss_Z2 = dLoss_Yh * dSigmoid(self.ch['Z2'])\n",
    "        print('dLoss_Z2',dLoss_Z2)\n",
    "        dLoss_A1 = np.dot(self.param[\"W2\"].T,dLoss_Z2)\n",
    "        print('dLoss_A1',dLoss_A1)\n",
    "        dLoss_W2 = 1./self.ch['A1'].shape[1] * np.dot(dLoss_Z2,self.ch['A1'].T)\n",
    "        print('dLoss_W2',dLoss_W2)\n",
    "        dLoss_b2 = 1./self.ch['A1'].shape[1] * np.dot(dLoss_Z2, np.ones([dLoss_Z2.shape[1],1]))\n",
    "        print('dLoss_b2',dLoss_b2)\n",
    "                            \n",
    "        dLoss_Z1 = dLoss_A1 * dRelu(self.ch['Z1']) \n",
    "        print('dLoss_Z1')\n",
    "        dLoss_A0 = np.dot(self.param[\"W1\"].T,dLoss_Z1)\n",
    "        print('dLoss_A0',dLoss_A0)\n",
    "        dLoss_W1 = 1./self.X.shape[1] * np.dot(dLoss_Z1,self.X.T)\n",
    "        print('dLoss_W1',dLoss_W1)\n",
    "        dLoss_b1 = 1./self.X.shape[1] * np.dot(dLoss_Z1, np.ones([dLoss_Z1.shape[1],1])) \n",
    "        print('dLoss_b1',dLoss_b1)\n",
    "        \n",
    "        self.param[\"W1\"] = self.param[\"W1\"] - self.lr * dLoss_W1\n",
    "        self.param[\"b1\"] = self.param[\"b1\"] - self.lr * dLoss_b1\n",
    "        self.param[\"W2\"] = self.param[\"W2\"] - self.lr * dLoss_W2\n",
    "        self.param[\"b2\"] = self.param[\"b2\"] - self.lr * dLoss_b2\n",
    "        \n",
    "        return\n",
    "\n",
    "\n",
    "    def pred(self,x, y):  \n",
    "        self.X=x\n",
    "        self.Y=y\n",
    "        comp = np.zeros((1,x.shape[1]))\n",
    "        pred, loss= self.forward()    \n",
    "    \n",
    "        for i in range(0, pred.shape[1]):\n",
    "            if pred[0,i] > self.threshold: comp[0,i] = 1\n",
    "            else: comp[0,i] = 0\n",
    "    \n",
    "        print(\"Acc: \" + str(np.sum((comp == y)/x.shape[1])))\n",
    "        \n",
    "        return comp\n",
    "    \n",
    "    def gd(self,X, Y, iter = 1):\n",
    "        np.random.seed(1)                         \n",
    "    \n",
    "        self.nInit()\n",
    "    \n",
    "        for i in range(0, iter):\n",
    "            Yh, loss=self.forward()\n",
    "            self.backward()\n",
    "        \n",
    "            if i % 1 == 0:\n",
    "                \n",
    "                print(\"W1:\",nn.param[\"W1\"])\n",
    "                print(\"W2:\",nn.param[\"W2\"])\n",
    "                print(\"b1:\",nn.param[\"b1\"])\n",
    "                print(\"b2:\",nn.param[\"b2\"])\n",
    "                self.loss.append(loss)\n",
    "\n",
    "    \n",
    "        return"
   ]
  },
  {
   "cell_type": "code",
   "execution_count": null,
   "id": "80f15f8b",
   "metadata": {},
   "outputs": [],
   "source": []
  },
  {
   "cell_type": "code",
   "execution_count": 30,
   "id": "9f40a97d",
   "metadata": {},
   "outputs": [
    {
     "name": "stdout",
     "output_type": "stream",
     "text": [
      "[[0.  1.  0.5 0. ]\n",
      " [1.  0.8 0.  0. ]\n",
      " [1.  0.8 0.2 0. ]]\n",
      "[0 0 1 1]\n"
     ]
    }
   ],
   "source": [
    "import numpy as np \n",
    "import pandas as pd \n",
    "import matplotlib.pyplot as plt\n",
    "from sklearn import preprocessing\n",
    "from sklearn.preprocessing import MinMaxScaler\n",
    "from sklearn import metrics\n",
    "from sklearn.metrics import confusion_matrix\n",
    "import itertools\n",
    "dataset=pd.DataFrame({'F1':[1,3,2,1],'F2':[7,6,2,2],'F3':[8,7,4,3],'Class':['A','A','B','B']})\n",
    "\n",
    "dataset.iloc[:,3].replace('A',0,inplace=True)\n",
    "\n",
    "dataset.iloc[:,3].replace('B',1,inplace=True)\n",
    "names=dataset.columns[0:3]\n",
    "\n",
    "scaler= MinMaxScaler()\n",
    "scaled_dataset = scaler.fit_transform(dataset.iloc[:,0:3])\n",
    "scaled_dataset = pd.DataFrame(scaled_dataset, columns=names)\n",
    "scaled_dataset\n",
    "\n",
    "x=scaled_dataset.iloc[:,0:3].values.transpose()\n",
    "y=dataset.iloc[:,3].values.transpose()\n",
    "\n",
    "print(x)\n",
    "print(y)"
   ]
  },
  {
   "cell_type": "code",
   "execution_count": 9,
   "id": "f68b6b22",
   "metadata": {},
   "outputs": [
    {
     "name": "stdout",
     "output_type": "stream",
     "text": [
      "(3, 4) (4,)\n"
     ]
    }
   ],
   "source": [
    "print(x.shape, y.shape)"
   ]
  },
  {
   "cell_type": "code",
   "execution_count": 31,
   "id": "8b3ab834",
   "metadata": {},
   "outputs": [],
   "source": [
    "nn = dlnet(x,y)\n",
    "nn.lr=0.07\n",
    "nn.dims = [3, 2, 1]"
   ]
  },
  {
   "cell_type": "code",
   "execution_count": 32,
   "id": "e1fa4ee0",
   "metadata": {},
   "outputs": [
    {
     "name": "stdout",
     "output_type": "stream",
     "text": [
      "Z1 [[1.   1.3  0.35 0.  ]\n",
      " [1.   1.3  0.35 0.  ]]\n",
      "W1 [[0.5 0.5 0.5]\n",
      " [0.5 0.5 0.5]]\n",
      "b1: [[0.]\n",
      " [0.]]\n",
      "A1 [[1.   1.3  0.35 0.  ]\n",
      " [1.   1.3  0.35 0.  ]]\n",
      "Z2 [[1.4  1.82 0.49 0.  ]]\n",
      "W2: [[0.7 0.7]]\n",
      "b2: [[0.]]\n",
      "A2 [[1.   1.3  0.35 0.  ]\n",
      " [1.   1.3  0.35 0.  ]]\n",
      "Loss: [1.19039839]\n",
      "[1.19039839]\n",
      "dLoss_Yh [[ 5.05519997  7.17185845 -1.61262639 -2.        ]]\n",
      "dLoss_Z2 [[ 0.80218389  0.86056613 -0.37989357 -0.5       ]]\n",
      "dLoss_A1 [[ 0.56152872  0.60239629 -0.2659255  -0.35      ]\n",
      " [ 0.56152872  0.60239629 -0.2659255  -0.35      ]]\n",
      "dLoss_W2 [[0.44698928 0.44698928]]\n",
      "dLoss_b2 [[0.19571411]]\n",
      "dLoss_Z1\n",
      "dLoss_A0 [[ 0.56152872  0.60239629 -0.2659255   0.        ]\n",
      " [ 0.56152872  0.60239629 -0.2659255   0.        ]\n",
      " [ 0.56152872  0.60239629 -0.2659255   0.        ]]\n",
      "dLoss_W1 [[0.11735839 0.26086144 0.24756516]\n",
      " [0.11735839 0.26086144 0.24756516]]\n",
      "dLoss_b1 [[0.22449988]\n",
      " [0.22449988]]\n",
      "W1: [[0.49178491 0.4817397  0.48267044]\n",
      " [0.49178491 0.4817397  0.48267044]]\n",
      "W2: [[0.66871075 0.66871075]]\n",
      "b1: [[-0.01571499]\n",
      " [-0.01571499]]\n",
      "b2: [[-0.01369999]]\n"
     ]
    }
   ],
   "source": [
    "nn.gd(x, y, iter = 1)"
   ]
  },
  {
   "cell_type": "code",
   "execution_count": 10,
   "id": "78972fa8",
   "metadata": {},
   "outputs": [
    {
     "name": "stdout",
     "output_type": "stream",
     "text": [
      "2\n",
      "1\n",
      "0\n"
     ]
    }
   ],
   "source": [
    "L=len([3,4,5,6])\n",
    "for l in reversed(range(L-1)):\n",
    "    print(l)"
   ]
  },
  {
   "cell_type": "code",
   "execution_count": 7,
   "id": "c05b9d70",
   "metadata": {},
   "outputs": [
    {
     "name": "stdout",
     "output_type": "stream",
     "text": [
      "1\n",
      "2\n",
      "3\n"
     ]
    }
   ],
   "source": [
    "for i in range(1,L):\n",
    "    print(i)"
   ]
  }
 ],
 "metadata": {
  "kernelspec": {
   "display_name": "Python 3 (ipykernel)",
   "language": "python",
   "name": "python3"
  },
  "language_info": {
   "codemirror_mode": {
    "name": "ipython",
    "version": 3
   },
   "file_extension": ".py",
   "mimetype": "text/x-python",
   "name": "python",
   "nbconvert_exporter": "python",
   "pygments_lexer": "ipython3",
   "version": "3.9.7"
  }
 },
 "nbformat": 4,
 "nbformat_minor": 5
}
